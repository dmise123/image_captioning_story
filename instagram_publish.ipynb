{
 "cells": [
  {
   "cell_type": "code",
   "execution_count": 1,
   "id": "46de2fa1",
   "metadata": {},
   "outputs": [],
   "source": [
    "import requests\n",
    "import json\n",
    "import time\n",
    "\n",
    "def post_image_to_instagram(access_token, instagram_account_id, image_url, caption=''):\n",
    "    \"\"\"\n",
    "    Post an image to Instagram Business Account using the Graph API\n",
    "    \n",
    "    Parameters:\n",
    "    access_token (str): Your Facebook access token with required permissions\n",
    "    instagram_account_id (str): Your Instagram Business Account ID\n",
    "    image_url (str): URL of the image to post (must be publicly accessible)\n",
    "    caption (str): Caption for the Instagram post\n",
    "    \n",
    "    Returns:\n",
    "    dict: API response\n",
    "    \"\"\"\n",
    "    # Step 1: Create a media container\n",
    "    url = f\"https://graph.facebook.com/v19.0/{instagram_account_id}/media\"\n",
    "    \n",
    "    payload = {\n",
    "        \"image_url\": image_url,\n",
    "        \"caption\": caption,\n",
    "        \"access_token\": access_token\n",
    "    }\n",
    "    \n",
    "    response = requests.post(url, data=payload)\n",
    "    result = response.json()\n",
    "    \n",
    "    if 'id' not in result:\n",
    "        print(\"Error creating media container:\", result)\n",
    "        return result\n",
    "    \n",
    "    creation_id = result['id']\n",
    "    print(f\"Media container created with ID: {creation_id}\")\n",
    "    \n",
    "    # Step 2: Publish the media container\n",
    "    url = f\"https://graph.facebook.com/v19.0/{instagram_account_id}/media_publish\"\n",
    "    \n",
    "    payload = {\n",
    "        \"creation_id\": creation_id,\n",
    "        \"access_token\": access_token\n",
    "    }\n",
    "    \n",
    "    # Wait a little to ensure the container is ready\n",
    "    time.sleep(5)\n",
    "    \n",
    "    response = requests.post(url, data=payload)\n",
    "    result = response.json()\n",
    "    \n",
    "    if 'id' in result:\n",
    "        print(f\"Media published successfully with ID: {result['id']}\")\n",
    "    else:\n",
    "        print(\"Error publishing media:\", result)\n",
    "    \n",
    "    return result\n"
   ]
  },
  {
   "cell_type": "code",
   "execution_count": 9,
   "id": "4c7388ee",
   "metadata": {},
   "outputs": [
    {
     "name": "stdout",
     "output_type": "stream",
     "text": [
      "Error creating media container: {'error': {'message': \"Unsupported post request. Object with ID 'andi_keren123' does not exist, cannot be loaded due to missing permissions, or does not support this operation. Please read the Graph API documentation at https://developers.facebook.com/docs/graph-api\", 'type': 'GraphMethodException', 'code': 100, 'error_subcode': 33, 'fbtrace_id': 'AjZNoe_1Dk4eM_BpQhva18H'}}\n",
      "{\n",
      "  \"error\": {\n",
      "    \"message\": \"Unsupported post request. Object with ID 'andi_keren123' does not exist, cannot be loaded due to missing permissions, or does not support this operation. Please read the Graph API documentation at https://developers.facebook.com/docs/graph-api\",\n",
      "    \"type\": \"GraphMethodException\",\n",
      "    \"code\": 100,\n",
      "    \"error_subcode\": 33,\n",
      "    \"fbtrace_id\": \"AjZNoe_1Dk4eM_BpQhva18H\"\n",
      "  }\n",
      "}\n"
     ]
    }
   ],
   "source": [
    "import os\n",
    "from dotenv import load_dotenv\n",
    "\n",
    "# Example usage\n",
    "access_token = os.getenv(\"INSTAGRAM_ACCESS_TOKEN\")\n",
    "instagram_account_id = os.getenv(\"INSTAGRAM_ACCOUNT_ID\")\n",
    "image_url = \"https://www.petra.ac.id/img/combined-sdg.7508d6a4.png\"\n",
    "caption = \"Check out this awesome photo! #instagram #api\"\n",
    "\n",
    "result = post_image_to_instagram(access_token, instagram_account_id, image_url, caption)\n",
    "print(json.dumps(result, indent=2))"
   ]
  },
  {
   "cell_type": "code",
   "execution_count": 5,
   "id": "415937f6",
   "metadata": {},
   "outputs": [
    {
     "data": {
      "text/plain": [
       "{'error': {'message': \"Unsupported get request. Object with ID 'None' does not exist, cannot be loaded due to missing permissions, or does not support this operation. Please read the Graph API documentation at https://developers.facebook.com/docs/graph-api\",\n",
       "  'type': 'GraphMethodException',\n",
       "  'code': 100,\n",
       "  'error_subcode': 33,\n",
       "  'fbtrace_id': 'A4C-7IMiZYeDYtQaG80r21C'}}"
      ]
     },
     "execution_count": 5,
     "metadata": {},
     "output_type": "execute_result"
    }
   ],
   "source": [
    "# Check if your Instagram ID is valid\n",
    "def verify_instagram_id(access_token, instagram_id):\n",
    "    url = f\"https://graph.facebook.com/v19.0/{instagram_id}\"\n",
    "    params = {\n",
    "        \"access_token\": access_token,\n",
    "        \"fields\": \"username,name\"\n",
    "    }\n",
    "    \n",
    "    response = requests.get(url, params=params)\n",
    "    return response.json()\n",
    "\n",
    "access_token = os.getenv(\"INSTAGRAM_ACCESS_TOKEN\")\n",
    "instagram_account_id = os.getenv(\"INSTAGRAM_ACCOUNT_ID\")\n",
    "verify_instagram_id(access_token, instagram_account_id)"
   ]
  },
  {
   "cell_type": "code",
   "execution_count": 8,
   "id": "9220129a",
   "metadata": {},
   "outputs": [
    {
     "name": "stdout",
     "output_type": "stream",
     "text": [
      "EAAKP2dFj19wBO7O0WiupJO96xU8OtiYkkdz5HibXtjl6WqS9W4c8ma5L666ZCk9NBZCdkcyv2bM3XnqvXgI2TgScM8hOdgp3jklqTh58WDa7sumeWgvkw7vkBwn9zLggXJMn2ISJmVWcO9eOeZA3h8ppJr5hllPEef38bekQJcoiIr4HkeSlQQahRv41MdTiYAbNXZAX9a0r1kpcCrWNpOXm8StZBa3XqdcmlJGEh5XkZD\n"
     ]
    }
   ],
   "source": [
    "from dotenv import load_dotenv\n",
    "load_dotenv()\n",
    "print(os.getenv(\"INSTAGRAM_ACCESS_TOKEN\"))"
   ]
  }
 ],
 "metadata": {
  "kernelspec": {
   "display_name": "image_captioning",
   "language": "python",
   "name": "python3"
  },
  "language_info": {
   "codemirror_mode": {
    "name": "ipython",
    "version": 3
   },
   "file_extension": ".py",
   "mimetype": "text/x-python",
   "name": "python",
   "nbconvert_exporter": "python",
   "pygments_lexer": "ipython3",
   "version": "3.9.21"
  }
 },
 "nbformat": 4,
 "nbformat_minor": 5
}
